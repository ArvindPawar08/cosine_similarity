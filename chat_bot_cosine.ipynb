{
 "cells": [
  {
   "cell_type": "code",
   "execution_count": 11,
   "metadata": {},
   "outputs": [],
   "source": [
    "import os\n",
    "import random\n",
    "import string\n",
    "import numpy as np\n",
    "import pandas as pd\n",
    "from sklearn.feature_extraction.text import TfidfVectorizer\n",
    "from sklearn.metrics.pairwise import cosine_similarity\n",
    "import nltk"
   ]
  },
  {
   "cell_type": "code",
   "execution_count": 91,
   "metadata": {},
   "outputs": [
    {
     "data": {
      "text/html": [
       "<div>\n",
       "<style scoped>\n",
       "    .dataframe tbody tr th:only-of-type {\n",
       "        vertical-align: middle;\n",
       "    }\n",
       "\n",
       "    .dataframe tbody tr th {\n",
       "        vertical-align: top;\n",
       "    }\n",
       "\n",
       "    .dataframe thead th {\n",
       "        text-align: right;\n",
       "    }\n",
       "</style>\n",
       "<table border=\"1\" class=\"dataframe\">\n",
       "  <thead>\n",
       "    <tr style=\"text-align: right;\">\n",
       "      <th></th>\n",
       "      <th>Question</th>\n",
       "      <th>Answer</th>\n",
       "    </tr>\n",
       "  </thead>\n",
       "  <tbody>\n",
       "    <tr>\n",
       "      <th>0</th>\n",
       "      <td>What is a coronavirus?</td>\n",
       "      <td>Coronaviruses are a large family of viruses which may cause illness in animals or humans.In huma...</td>\n",
       "    </tr>\n",
       "    <tr>\n",
       "      <th>1</th>\n",
       "      <td>What is COVID-19?</td>\n",
       "      <td>COVID-19 is the infectious disease caused by the most recently discovered coronavirus. This new ...</td>\n",
       "    </tr>\n",
       "    <tr>\n",
       "      <th>2</th>\n",
       "      <td>What are the symptoms of COVID-19?</td>\n",
       "      <td>The most common symptoms of COVID-19 are fever, tiredness, and dry cough. Some patients may have...</td>\n",
       "    </tr>\n",
       "    <tr>\n",
       "      <th>3</th>\n",
       "      <td>How does COVID-19 spread?</td>\n",
       "      <td>People can catch COVID-19 from others who have the virus. The disease can spread from person to ...</td>\n",
       "    </tr>\n",
       "    <tr>\n",
       "      <th>4</th>\n",
       "      <td>Can the virus that causes COVID-19 be transmitted through the air?</td>\n",
       "      <td>Studies to date suggest that the virus that causes COVID-19 is mainly transmitted through contac...</td>\n",
       "    </tr>\n",
       "    <tr>\n",
       "      <th>5</th>\n",
       "      <td>Can CoVID-19 be caught from a person who has no symptoms?</td>\n",
       "      <td>The main way the disease spreads is through respiratory droplets expelled by someone who is coug...</td>\n",
       "    </tr>\n",
       "    <tr>\n",
       "      <th>6</th>\n",
       "      <td>Can I catch COVID-19 from the feces of someone with the disease?</td>\n",
       "      <td>The risk of catching COVID-19 from the feces of an infected person appears to be low. While init...</td>\n",
       "    </tr>\n",
       "    <tr>\n",
       "      <th>7</th>\n",
       "      <td>What can I do to protect myself and prevent the spread of disease?</td>\n",
       "      <td>Regularly and thoroughly clean your hands with an alcohol-based hand rub or wash them with soap ...</td>\n",
       "    </tr>\n",
       "    <tr>\n",
       "      <th>8</th>\n",
       "      <td>What can I do to protect myself andProtection measures for persons who are in or have recently v...</td>\n",
       "      <td>Self-isolate by staying at home if you begin to feel unwell, even with mild symptoms such as hea...</td>\n",
       "    </tr>\n",
       "    <tr>\n",
       "      <th>9</th>\n",
       "      <td>Protection measures for persons who are in or have recently visited (past 14 days) areas where C...</td>\n",
       "      <td>If you develop fever, cough and difficulty breathing, seek medical advice promptly as this may b...</td>\n",
       "    </tr>\n",
       "  </tbody>\n",
       "</table>\n",
       "</div>"
      ],
      "text/plain": [
       "                                                                                              Question  \\\n",
       "0                                                                               What is a coronavirus?   \n",
       "1                                                                                    What is COVID-19?   \n",
       "2                                                                   What are the symptoms of COVID-19?   \n",
       "3                                                                            How does COVID-19 spread?   \n",
       "4                                   Can the virus that causes COVID-19 be transmitted through the air?   \n",
       "5                                            Can CoVID-19 be caught from a person who has no symptoms?   \n",
       "6                                     Can I catch COVID-19 from the feces of someone with the disease?   \n",
       "7                                   What can I do to protect myself and prevent the spread of disease?   \n",
       "8  What can I do to protect myself andProtection measures for persons who are in or have recently v...   \n",
       "9  Protection measures for persons who are in or have recently visited (past 14 days) areas where C...   \n",
       "\n",
       "                                                                                                Answer  \n",
       "0  Coronaviruses are a large family of viruses which may cause illness in animals or humans.In huma...  \n",
       "1  COVID-19 is the infectious disease caused by the most recently discovered coronavirus. This new ...  \n",
       "2  The most common symptoms of COVID-19 are fever, tiredness, and dry cough. Some patients may have...  \n",
       "3  People can catch COVID-19 from others who have the virus. The disease can spread from person to ...  \n",
       "4  Studies to date suggest that the virus that causes COVID-19 is mainly transmitted through contac...  \n",
       "5  The main way the disease spreads is through respiratory droplets expelled by someone who is coug...  \n",
       "6  The risk of catching COVID-19 from the feces of an infected person appears to be low. While init...  \n",
       "7  Regularly and thoroughly clean your hands with an alcohol-based hand rub or wash them with soap ...  \n",
       "8  Self-isolate by staying at home if you begin to feel unwell, even with mild symptoms such as hea...  \n",
       "9  If you develop fever, cough and difficulty breathing, seek medical advice promptly as this may b...  "
      ]
     },
     "execution_count": 91,
     "metadata": {},
     "output_type": "execute_result"
    }
   ],
   "source": [
    "os.getcwd()\n",
    "os.chdir()\n",
    "\n",
    "\n",
    "# dataset coronavirus WHO\n",
    "pd.set_option('max_colwidth', 100)  # Increase column width\n",
    "data = pd.read_excel(\"WHO_FAQ_1.xlsx\", encoding='utf8')\n",
    "data.head(10)"
   ]
  },
  {
   "cell_type": "code",
   "execution_count": 92,
   "metadata": {},
   "outputs": [
    {
     "data": {
      "text/plain": [
       "0                                                                                  What is a coronavirus?\n",
       "1                                                                                       What is COVID-19?\n",
       "2                                                                      What are the symptoms of COVID-19?\n",
       "3                                                                               How does COVID-19 spread?\n",
       "4                                      Can the virus that causes COVID-19 be transmitted through the air?\n",
       "5                                               Can CoVID-19 be caught from a person who has no symptoms?\n",
       "6                                        Can I catch COVID-19 from the feces of someone with the disease?\n",
       "7                                      What can I do to protect myself and prevent the spread of disease?\n",
       "8     What can I do to protect myself andProtection measures for persons who are in or have recently v...\n",
       "9     Protection measures for persons who are in or have recently visited (past 14 days) areas where C...\n",
       "10                                                                     How likely am I to catch COVID-19?\n",
       "11                                                                          Should I worry about COVID-19\n",
       "12                                                                                         how to protect\n",
       "Name: Question, dtype: object"
      ]
     },
     "execution_count": 92,
     "metadata": {},
     "output_type": "execute_result"
    }
   ],
   "source": [
    "data['Question']\n",
    "new_row = {'Question':'how to protect','Answer':''}\n",
    "data = data.append(new_row, ignore_index=True)\n",
    "data['Question']"
   ]
  },
  {
   "cell_type": "code",
   "execution_count": 95,
   "metadata": {},
   "outputs": [
    {
     "data": {
      "text/plain": [
       "0                                                                                  What is a coronavirus?\n",
       "1                                                                                       What is COVID-19?\n",
       "2                                                                      What are the symptoms of COVID-19?\n",
       "3                                                                               How does COVID-19 spread?\n",
       "4                                      Can the virus that causes COVID-19 be transmitted through the air?\n",
       "5                                               Can CoVID-19 be caught from a person who has no symptoms?\n",
       "6                                        Can I catch COVID-19 from the feces of someone with the disease?\n",
       "7                                      What can I do to protect myself and prevent the spread of disease?\n",
       "8     What can I do to protect myself andProtection measures for persons who are in or have recently v...\n",
       "9     Protection measures for persons who are in or have recently visited (past 14 days) areas where C...\n",
       "10                                                                     How likely am I to catch COVID-19?\n",
       "11                                                                          Should I worry about COVID-19\n",
       "Name: Question, dtype: object"
      ]
     },
     "execution_count": 95,
     "metadata": {},
     "output_type": "execute_result"
    }
   ],
   "source": [
    "data['Question']"
   ]
  },
  {
   "cell_type": "code",
   "execution_count": 94,
   "metadata": {},
   "outputs": [
    {
     "name": "stdout",
     "output_type": "stream",
     "text": [
      "[[0.         0.         0.         0.         0.         0.\n",
      "  0.         0.48383696 0.23748542 0.         0.         0.\n",
      "  1.        ]]\n",
      "(array([0, 0], dtype=int64), array([ 7, 12], dtype=int64))\n",
      "['Regularly and thoroughly clean your hands with an alcohol-based hand rub or wash them with soap and water.\\nMaintain at least 1 metre (3 feet) distance between yourself and anyone who is coughing or sneezing.\\nAvoid touching eyes, nose and mouth.\\nMake sure you, and the people around you, follow good respiratory hygiene. This means covering your mouth and nose with your bent elbow or tissue when you cough or sneeze. Then dispose of the used tissue immediately.\\nStay home if you feel unwell. If you have a fever, cough and difficulty breathing, seek medical attention and call in advance. Follow the directions of your local health authority.\\nIf possible, avoid traveling to places \\xa0– especially if you are an older person or have diabetes, heart or lung disease.\\nKeep up to date on the latest COVID-19 hotspots (cities or local areas where COVID-19 is spreading widely).']\n"
     ]
    }
   ],
   "source": [
    "\n",
    "remove_punct_dict = dict((ord(punct),None) for punct in string.punctuation)\n",
    "# print(remove_punct_dict)\n",
    "\n",
    "from nltk.tokenize import word_tokenize\n",
    "\n",
    "def lemNormalize(text):\n",
    "    return nltk.word_tokenize(text.lower().translate(remove_punct_dict))\n",
    "\n",
    "TfidfVec = TfidfVectorizer(tokenizer =lemNormalize, stop_words='english')\n",
    "tfidf = TfidfVec.fit_transform(data['Question'])\n",
    "# print(tfidf)\n",
    "vals = cosine_similarity(tfidf[-1],tfidf)\n",
    "print (vals)\n",
    "boolArr = (vals >0.4)\n",
    "result = np.where(boolArr)\n",
    "print(result)\n",
    "answer =[]\n",
    "if (np.any(boolArr == True) and len(result[1]) >1):\n",
    "        for i in range(0,(len(result[1]))-1):\n",
    "            answer.append(data['Answer'][result[1][i]])\n",
    "else:\n",
    "    print('Sorry, dont understand')\n",
    "print(answer)\n",
    "\n",
    "data.drop(data.tail(1).index,inplace=True) "
   ]
  },
  {
   "cell_type": "code",
   "execution_count": 59,
   "metadata": {},
   "outputs": [
    {
     "data": {
      "text/plain": [
       "numpy.ndarray"
      ]
     },
     "execution_count": 59,
     "metadata": {},
     "output_type": "execute_result"
    }
   ],
   "source": [
    "type(vals)"
   ]
  },
  {
   "cell_type": "code",
   "execution_count": null,
   "metadata": {},
   "outputs": [],
   "source": [
    "len(result[1])-1"
   ]
  },
  {
   "cell_type": "code",
   "execution_count": null,
   "metadata": {},
   "outputs": [],
   "source": [
    "data"
   ]
  },
  {
   "cell_type": "code",
   "execution_count": 56,
   "metadata": {},
   "outputs": [
    {
     "name": "stdout",
     "output_type": "stream",
     "text": [
      "2\n",
      "12\n",
      "['']\n",
      "1\n",
      "4\n",
      "['', 'Studies to date suggest that the virus that causes COVID-19 is mainly transmitted through contact with respiratory droplets rather than through the air.\\xa0']\n"
     ]
    }
   ],
   "source": [
    "\n",
    "if (np.any(boolArr == True) and len(result[1]) >1):\n",
    "    i= len(result[1])-1\n",
    "    while i > 0:\n",
    "        print(i)\n",
    "        print(result[1][i])\n",
    "        answer.append(data['Answer'][result[1][i]])\n",
    "        print(answer)\n",
    "        i=i-1\n",
    "else:\n",
    "    print('Sorry, dont understand ')"
   ]
  }
 ],
 "metadata": {
  "kernelspec": {
   "display_name": "Python 3",
   "language": "python",
   "name": "python3"
  },
  "language_info": {
   "codemirror_mode": {
    "name": "ipython",
    "version": 3
   },
   "file_extension": ".py",
   "mimetype": "text/x-python",
   "name": "python",
   "nbconvert_exporter": "python",
   "pygments_lexer": "ipython3",
   "version": "3.7.6"
  }
 },
 "nbformat": 4,
 "nbformat_minor": 4
}
